{
 "cells": [
  {
   "cell_type": "markdown",
   "metadata": {},
   "source": [
    "### 3层神经网络 \n",
    "### 输入（3）+隐藏（4）+输出（1）"
   ]
  },
  {
   "cell_type": "code",
   "execution_count": 1,
   "metadata": {},
   "outputs": [],
   "source": [
    "import numpy as np\n",
    "\n",
    "\n",
    "# sigmod损失函数及其求导\n",
    "def sigmoid(x,deriv = False):\n",
    "    if (deriv == True):\n",
    "        return x*(1-x)  # 求导，反向传播\n",
    "    return 1/(1+np.exp(-x))  # 计算，正向"
   ]
  },
  {
   "cell_type": "code",
   "execution_count": 2,
   "metadata": {},
   "outputs": [],
   "source": [
    "x = np.array([[0,0,1],[0,1,1],[1,0,1],[1,1,1],[0,0,1]]) # 自定义3个特征\n",
    "# x.shape == （5,3）\n",
    "\n",
    "y = np.array([[0],[1],[1],[0],[1]])  # 自定义标签，不接受1维\n",
    "# y.shape == （5,1）\n",
    "\n",
    "np.random.seed(1)  # 定义一个随机种子"
   ]
  },
  {
   "cell_type": "code",
   "execution_count": 5,
   "metadata": {},
   "outputs": [
    {
     "name": "stdout",
     "output_type": "stream",
     "text": [
      "Error0.5283907337292162\n",
      "Error0.20629149268788413\n",
      "Error0.20426866004019187\n",
      "Error0.20341214401078042\n",
      "Error0.20291340712741687\n",
      "Error0.20257837189613337\n"
     ]
    }
   ],
   "source": [
    "# 初始化w0、w1在[-1,1]，迭代60000次，每10000次输出损失\n",
    "w0 = 2*np.random.random((3,4))-1 # 4个神经元\n",
    "w1 = 2*np.random.random((4,1))-1 # 一个输出\n",
    "for j in range(60000):\n",
    "    L0 = x  # 输入层\n",
    "    L1 = sigmoid(np.dot(L0,w0))  # 计算隐藏层输入\n",
    "    L2 = sigmoid(np.dot(L1,w1))  # 计算隐藏层输出\n",
    "    L2_error = y - L2    # 计算损失,5个点一起计算\n",
    "    if (j%10000) == 0:\n",
    "        print('Error'+str(np.mean(np.abs(L2_error)))) # 5个数据点的平均误差\n",
    "    L2_delta = L2_error * sigmoid(L2,deriv=True) # 梯度下降\n",
    "    L1_error = L2_delta.dot(w1.T)\n",
    "    L1_delta = L1_error * sigmoid(L1,deriv=True)  # 梯度下降\n",
    "    \n",
    "    # 反向传播，参数更新\n",
    "    w1 += L1.T.dot(L2_delta)\n",
    "    w0 += L0.T.dot(L1_delta)"
   ]
  },
  {
   "cell_type": "code",
   "execution_count": 6,
   "metadata": {},
   "outputs": [
    {
     "data": {
      "text/plain": [
       "array([0.50001185])"
      ]
     },
     "execution_count": 6,
     "metadata": {},
     "output_type": "execute_result"
    }
   ],
   "source": [
    "# predict\n",
    "px = [0,0,1]\n",
    "py = sigmoid(np.dot(sigmoid(np.dot(px,w0)),w1))\n",
    "py"
   ]
  }
 ],
 "metadata": {
  "kernelspec": {
   "display_name": "Python 3",
   "language": "python",
   "name": "python3"
  },
  "language_info": {
   "codemirror_mode": {
    "name": "ipython",
    "version": 3
   },
   "file_extension": ".py",
   "mimetype": "text/x-python",
   "name": "python",
   "nbconvert_exporter": "python",
   "pygments_lexer": "ipython3",
   "version": "3.7.0"
  }
 },
 "nbformat": 4,
 "nbformat_minor": 2
}
