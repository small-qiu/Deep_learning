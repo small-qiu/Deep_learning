{
 "cells": [
  {
   "cell_type": "code",
   "execution_count": 14,
   "metadata": {},
   "outputs": [
    {
     "name": "stderr",
     "output_type": "stream",
     "text": [
      "Using TensorFlow backend.\n"
     ]
    },
    {
     "data": {
      "text/plain": [
       "'2.3.1'"
      ]
     },
     "execution_count": 14,
     "metadata": {},
     "output_type": "execute_result"
    }
   ],
   "source": [
    "import keras\n",
    "keras.__version__"
   ]
  },
  {
   "cell_type": "markdown",
   "metadata": {},
   "source": [
    "# Text generation with LSTM\n",
    "\n",
    "This notebook contains the code samples found in Chapter 8, Section 1 of [Deep Learning with Python](https://www.manning.com/books/deep-learning-with-python?a_aid=keras&a_bid=76564dff). Note that the original text features far more content, in particular further explanations and figures: in this notebook, you will only find source code and related comments.\n",
    "\n",
    "----\n",
    "\n",
    "[...]\n",
    "\n",
    "## Implementing character-level LSTM text generation\n",
    "\n",
    "\n",
    "Let's put these ideas in practice in a Keras implementation. The first thing we need is a lot of text data that we can use to learn a \n",
    "language model. You could use any sufficiently large text file or set of text files -- Wikipedia, the Lord of the Rings, etc. In this \n",
    "example we will use some of the writings of Nietzsche, the late-19th century German philosopher (translated to English). The language model \n",
    "we will learn will thus be specifically a model of Nietzsche's writing style and topics of choice, rather than a more generic model of the \n",
    "English language."
   ]
  },
  {
   "cell_type": "markdown",
   "metadata": {},
   "source": [
    "## Preparing the data\n",
    "\n",
    "Let's start by downloading the corpus and converting it to lowercase:"
   ]
  },
  {
   "cell_type": "code",
   "execution_count": 15,
   "metadata": {},
   "outputs": [
    {
     "name": "stdout",
     "output_type": "stream",
     "text": [
      "Corpus length: 600893\n"
     ]
    }
   ],
   "source": [
    "import keras\n",
    "import numpy as np\n",
    "\n",
    "\n",
    "# 加载数据集\n",
    "path = keras.utils.get_file(\n",
    "    'nietzsche.txt',\n",
    "    origin='https://s3.amazonaws.com/text-datasets/nietzsche.txt')\n",
    "text = open(path).read().lower()  # 全部小写\n",
    "print('Corpus length:', len(text))"
   ]
  },
  {
   "cell_type": "markdown",
   "metadata": {},
   "source": [
    "\n",
    "Next, we will extract partially-overlapping sequences of length `maxlen`, one-hot encode them and pack them in a 3D Numpy array `x` of \n",
    "shape `(sequences, maxlen, unique_characters)`. Simultaneously, we prepare a array `y` containing the corresponding targets: the one-hot \n",
    "encoded characters that come right after each extracted sequence."
   ]
  },
  {
   "cell_type": "code",
   "execution_count": 16,
   "metadata": {},
   "outputs": [
    {
     "name": "stdout",
     "output_type": "stream",
     "text": [
      "Number of sequences: 200278\n",
      "Unique characters: 58\n",
      "Vectorization...\n"
     ]
    }
   ],
   "source": [
    "# Length of extracted character sequences,每个sample的长度\n",
    "maxlen = 60\n",
    "\n",
    "# We sample a new sequence every `step` characters，每隔3步取一个数据作为sample\n",
    "step = 3\n",
    "\n",
    "# This holds our extracted sequences，句子\n",
    "sentences = []\n",
    "\n",
    "# This holds the targets (the follow-up characters)，标签\n",
    "next_chars = []\n",
    "\n",
    "for i in range(0, len(text) - maxlen, step):\n",
    "    sentences.append(text[i: i + maxlen])\n",
    "    next_chars.append(text[i + maxlen])\n",
    "print('Number of sequences:', len(sentences))\n",
    "\n",
    "# List of unique characters in the corpus，为了做映射表，有58个字符\n",
    "chars = sorted(list(set(text)))\n",
    "print('Unique characters:', len(chars))\n",
    "# Dictionary mapping unique characters to their index in `chars`\n",
    "char_indices = dict((char, chars.index(char)) for char in chars)\n",
    "\n",
    "\n",
    "# 进行one-hot编码\n",
    "# Next, one-hot encode the characters into binary arrays.\n",
    "print('Vectorization...')\n",
    "x = np.zeros((len(sentences), maxlen, len(chars)), dtype=np.bool)\n",
    "y = np.zeros((len(sentences), len(chars)), dtype=np.bool)\n",
    "for i, sentence in enumerate(sentences):\n",
    "    for t, char in enumerate(sentence):\n",
    "        x[i, t, char_indices[char]] = 1\n",
    "    y[i, char_indices[next_chars[i]]] = 1\n",
    "    \n",
    "# 构建数据完成"
   ]
  },
  {
   "cell_type": "markdown",
   "metadata": {},
   "source": [
    "## Building the network\n",
    "\n",
    "Our network is a single `LSTM` layer followed by a `Dense` classifier and softmax over all possible characters. But let us note that \n",
    "recurrent neural networks are not the only way to do sequence data generation; 1D convnets also have proven extremely successful at it in \n",
    "recent times."
   ]
  },
  {
   "cell_type": "code",
   "execution_count": 17,
   "metadata": {},
   "outputs": [],
   "source": [
    "from keras import layers\n",
    "\n",
    "# 搭建很简单的网络\n",
    "model = keras.models.Sequential()\n",
    "model.add(layers.LSTM(128, input_shape=(maxlen, len(chars))))\n",
    "model.add(layers.Dense(len(chars), activation='softmax'))"
   ]
  },
  {
   "cell_type": "markdown",
   "metadata": {},
   "source": [
    "Since our targets are one-hot encoded, we will use `categorical_crossentropy` as the loss to train the model:"
   ]
  },
  {
   "cell_type": "code",
   "execution_count": 18,
   "metadata": {},
   "outputs": [],
   "source": [
    "# 优化器\n",
    "optimizer = keras.optimizers.RMSprop(lr=0.01)\n",
    "model.compile(loss='categorical_crossentropy', optimizer=optimizer)"
   ]
  },
  {
   "cell_type": "markdown",
   "metadata": {},
   "source": [
    "## Training the language model and sampling from it\n",
    "\n",
    "\n",
    "Given a trained model and a seed text snippet, we generate new text by repeatedly:\n",
    "\n",
    "* 1) Drawing from the model a probability distribution over the next character given the text available so far\n",
    "* 2) Reweighting the distribution to a certain \"temperature\"\n",
    "* 3) Sampling the next character at random according to the reweighted distribution\n",
    "* 4) Adding the new character at the end of the available text\n",
    "\n",
    "This is the code we use to reweight the original probability distribution coming out of the model, \n",
    "and draw a character index from it (the \"sampling function\"):"
   ]
  },
  {
   "cell_type": "code",
   "execution_count": 19,
   "metadata": {},
   "outputs": [],
   "source": [
    "# 对最终的预测概率进行放缩、拉伸，拉大距离，让抽样距离更加大\n",
    "def sample(preds, temperature=1.0):\n",
    "    preds = np.asarray(preds).astype('float64')\n",
    "    preds = np.log(preds) / temperature\n",
    "    exp_preds = np.exp(preds)\n",
    "    preds = exp_preds / np.sum(exp_preds)\n",
    "    probas = np.random.multinomial(1, preds, 1)\n",
    "    return np.argmax(probas)   # 返回最大的可能的字符"
   ]
  },
  {
   "cell_type": "markdown",
   "metadata": {},
   "source": [
    "\n",
    "Finally, this is the loop where we repeatedly train and generated text. We start generating text using a range of different temperatures \n",
    "after every epoch. This allows us to see how the generated text evolves as the model starts converging, as well as the impact of \n",
    "temperature in the sampling strategy."
   ]
  },
  {
   "cell_type": "code",
   "execution_count": 21,
   "metadata": {},
   "outputs": [
    {
     "name": "stdout",
     "output_type": "stream",
     "text": [
      "epoch 1\n",
      "Epoch 1/1\n",
      "200278/200278 [==============================] - 283s 1ms/step - loss: 1.6169\n",
      "--- Generating with seed: \" under their dress and finery.\n",
      "\n",
      "128. the more abstract the t\"\n",
      "------ temperature: 0.2\n"
     ]
    },
    {
     "ename": "NameError",
     "evalue": "name 'generated_text' is not defined",
     "output_type": "error",
     "traceback": [
      "\u001b[1;31m---------------------------------------------------------------------------\u001b[0m",
      "\u001b[1;31mNameError\u001b[0m                                 Traceback (most recent call last)",
      "\u001b[1;32m<ipython-input-21-1466d24e0b01>\u001b[0m in \u001b[0;36m<module>\u001b[1;34m()\u001b[0m\n\u001b[0;32m     18\u001b[0m     \u001b[1;32mfor\u001b[0m \u001b[0mtemperature\u001b[0m \u001b[1;32min\u001b[0m \u001b[1;33m[\u001b[0m\u001b[1;36m0.2\u001b[0m\u001b[1;33m,\u001b[0m \u001b[1;36m0.5\u001b[0m\u001b[1;33m,\u001b[0m \u001b[1;36m1.0\u001b[0m\u001b[1;33m,\u001b[0m \u001b[1;36m1.2\u001b[0m\u001b[1;33m]\u001b[0m\u001b[1;33m:\u001b[0m\u001b[1;33m\u001b[0m\u001b[0m\n\u001b[0;32m     19\u001b[0m         \u001b[0mprint\u001b[0m\u001b[1;33m(\u001b[0m\u001b[1;34m'------ temperature:'\u001b[0m\u001b[1;33m,\u001b[0m \u001b[0mtemperature\u001b[0m\u001b[1;33m)\u001b[0m\u001b[1;33m\u001b[0m\u001b[0m\n\u001b[1;32m---> 20\u001b[1;33m         \u001b[0msys\u001b[0m\u001b[1;33m.\u001b[0m\u001b[0mstdout\u001b[0m\u001b[1;33m.\u001b[0m\u001b[0mwrite\u001b[0m\u001b[1;33m(\u001b[0m\u001b[0mgenerated_text\u001b[0m\u001b[1;33m)\u001b[0m\u001b[1;33m\u001b[0m\u001b[0m\n\u001b[0m\u001b[0;32m     21\u001b[0m \u001b[1;33m\u001b[0m\u001b[0m\n\u001b[0;32m     22\u001b[0m         \u001b[1;31m# We generate 400 characters\u001b[0m\u001b[1;33m\u001b[0m\u001b[1;33m\u001b[0m\u001b[0m\n",
      "\u001b[1;31mNameError\u001b[0m: name 'generated_text' is not defined"
     ]
    }
   ],
   "source": [
    "import random\n",
    "import sys\n",
    "\n",
    "\n",
    "# 训练59个ephoch\n",
    "for epoch in range(1, 2):\n",
    "    print('epoch', epoch)\n",
    "    # Fit the model for 1 epoch on the available training data\n",
    "    model.fit(x, y,\n",
    "              batch_size=128,\n",
    "              epochs=1)\n",
    "\n",
    "    # Select a text seed at random，做验证\n",
    "    start_index = random.randint(0, len(text) - maxlen - 1)\n",
    "    origal_generated_text = text[start_index: start_index + maxlen]\n",
    "    print('--- Generating with seed: \"' + origal_generated_text + '\"')\n",
    "\n",
    "    for temperature in [0.2, 0.5, 1.0, 1.2]:\n",
    "        print('------ temperature:', temperature)\n",
    "        sys.stdout.write(origal_generated_text)\n",
    "\n",
    "        # We generate 400 characters\n",
    "        # 不同之处在于origal_generated_text\n",
    "        sampled = np.zeros((1, maxlen, len(chars)))\n",
    "        for t, char in enumerate(origal_generated_text):\n",
    "            sampled[0, t, char_indices[char]] = 1.\n",
    "\n",
    "        preds = model.predict(sampled, verbose=0)[0]  # 生成是二维的，只有一个sample，所以是[0]\n",
    "        next_index = sample(preds, temperature)\n",
    "        next_char = chars[next_index]\n",
    "\n",
    "        generated_text =origal_generated_text+ next_char\n",
    "        generated_text = generated_text[1:]\n",
    "\n",
    "        # 打印\n",
    "        sys.stdout.write(next_char)\n",
    "\n",
    "        for i in range(399):\n",
    "            # one-hot encoding\n",
    "            sampled = np.zeros((1, maxlen, len(chars)))\n",
    "            for t, char in enumerate(generated_text):\n",
    "                sampled[0, t, char_indices[char]] = 1.\n",
    "\n",
    "            preds = model.predict(sampled, verbose=0)[0]  # 生成是二维的，只有一个sample，所以是[0]\n",
    "            next_index = sample(preds, temperature)\n",
    "            next_char = chars[next_index]\n",
    "\n",
    "            generated_text += next_char\n",
    "            generated_text = generated_text[1:]\n",
    "\n",
    "            # 打印\n",
    "            sys.stdout.write(next_char)\n",
    "            sys.stdout.flush()\n",
    "        print()"
   ]
  },
  {
   "cell_type": "code",
   "execution_count": 2,
   "metadata": {},
   "outputs": [
    {
     "name": "stdout",
     "output_type": "stream",
     "text": [
      "As you can see, a low temperature results in extremely repetitive and predictable text,     but where local structure is highly realistic: in particular, all words (a word being a     local pattern of characters) are real English words. With higher temperatures, the generated     text becomes more interesting, surprising, even creative; it may sometimes invent completely new     words that sound somewhat plausible (such as \"eterned\" or \"troveration\"). With a high temperature,     the local structure starts breaking down and most words look like semi-random strings of characters.     Without a doubt, here 0.5 is the most interesting temperature for text generation in this specific setup.     Always experiment with multiple sampling strategies! A clever balance between learned structure and randomness     is what makes generation interesting."
     ]
    }
   ],
   "source": [
    "import sys\n",
    "t = 'As you can see, a low temperature results in extremely repetitive and predictable text,\\\n",
    "     but where local structure is highly realistic: in particular, all words (a word being a\\\n",
    "     local pattern of characters) are real English words. With higher temperatures, the generated\\\n",
    "     text becomes more interesting, surprising, even creative; it may sometimes invent completely new\\\n",
    "     words that sound somewhat plausible (such as \"eterned\" or \"troveration\"). With a high temperature,\\\n",
    "     the local structure starts breaking down and most words look like semi-random strings of characters.\\\n",
    "     Without a doubt, here 0.5 is the most interesting temperature for text generation in this specific setup.\\\n",
    "     Always experiment with multiple sampling strategies! A clever balance between learned structure and randomness\\\n",
    "     is what makes generation interesting.'\n",
    "for i in t:\n",
    "    sys.stdout.write(i)  # print(i) = sys.stdout.write(i+ \\n)，一次性输出\n",
    "    sys.stdout.flush() # 缓冲输出，刷新区域"
   ]
  },
  {
   "cell_type": "code",
   "execution_count": 9,
   "metadata": {},
   "outputs": [
    {
     "name": "stdout",
     "output_type": "stream",
     "text": [
      " \n",
      "       █　　　　　█　█ 　　　　 　     \n",
      "　     █　　　█████　　　　 \n",
      "       █　　   　 █　　　　   　 \n",
      "　     █      █████　　  　　████████   \n",
      "       █      █  █  █　   　　 █            █\n",
      "　 █████　█████　　      █            █\n",
      "　     █　　　█　█　█　　　　　█　　　　　　█\n",
      "　     █　　  █████          ████████\n",
      "       █   　 █  █  █                █ █\n",
      "       █   　 █  ███               █   █\n",
      "       █             █               █     █\n",
      "       █    █　█　█　█　　　　   █      █\n",
      "　     █　　      █ █　　　　　　█　　　  █\n",
      "　     █　　　 █  █　　　　　　█　        █      █\n",
      "　     █　　　　    █　　　　██            ████\n",
      "       █　　　　 ██　　　　　　                         \n",
      "       \n",
      "            ┊┊┊\n",
      "            ┊┊┊┊☆☆☆☆☆☆☆☆\n",
      "            ┊┊┊╭┻┻┻┻┻┻┻┻╮┊┊┊\n",
      "            ┊┊┊┃╱╲╱╲╱╲╱╲┃┊┊┊\n",
      "            ┊┊╭┻━━━━━━━━┻╮┊┊\n",
      "            ┊┊┃╱╲╱╲╱╲╱╲╱╲┃┊┊\n",
      "            ╱▔┗━━━━━━━━━━┛▔╲     \n",
      "            \n",
      "                ◢████████████◣                \n",
      "               ██████████████                \n",
      "               ██       ◥██◤       ██                \n",
      "           ◢███         ◥◤         ██◣              \n",
      "           ▊▎██◣                  ◢█▊▊              \n",
      "           ▊▎██◤     ●     ●      ◥█▊▊            \n",
      "           ▊   ██                     █▊▊              \n",
      "           ◥▇██   ▊             ▊   █▇◤              \n",
      "               ██   ◥▆▄▄▄▄▆◤   █▊       ◢▇▇◣  \n",
      "        ◢██◥◥▆▅▄▂▂▂▂▄▅▆███◣ ▊ ◢   █  \n",
      "        █╳                              ╳█   ◥◤◢◤  \n",
      "        ◥█◣       ˙           ˙     ◢█◤     ◢◤    \n",
      "             ▊                          ▊         █      \n",
      "             ▊                          ▊       ◢◤      \n",
      "             ▊             ⊕            █▇▇▇◤      \n",
      "           ◢█▇▆▆▆▅▅▅▅▆▆▆▇█◣  \n",
      "           \n",
      "           。'ㅇ'☆''。*。*.。'☆*。。'ㅇ.☆.。'..*。*。..。'ㅇ'。 \n",
      ".。'☆。' 　 ◆◆◆◆　'☆*。.*ㅇ ◆◆◆◆　 .。'☆。' \n",
      ". 。' ' 　◆◆◆◆◆◆◆ *☆ ◆◆◆◆◆◆◆◆　 .。' ' \n",
      "'。☆　◆◆◆◆◆◆◆◆◆◆◆◆◆◆◆◆◆◆◆　 ''。☆ \n",
      ".。 　 ◆◆◆◆◆◆◆◆◆◆◆◆◆◆◆◆◆◆◆◆　.*ㅇ \n",
      "'☆　◆◆◆◆◆◆◆◆◆◆◆◆◆◆◆◆◆◆◆◆◆　 .。 \n",
      ".*ㅇ ◆◆◆◆◆◆◆◆◆◆◆◆◆◆◆◆◆◆◆◆◆　''☆ \n",
      "''☆　◆◆◆◆◆◆◆◆◆◆◆◆◆◆◆◆◆◆◆◆　.☆. \n",
      ".☆. 　◆◆◆◆◆◆◆◆◆◆◆◆◆◆◆◆◆◆◆　.*ㅇ \n",
      "ㅇ'.. 　 ◆◆◆◆◆◆◆◆◆◆◆◆◆◆◆◆◆　 。''☆ \n",
      "。''☆''。　 ◆◆◆◆◆◆◆◆◆◆◆◆◆◆　 。'。'☆''。 \n",
      "*。..。'ㅇ'.。　 ◆◆◆◆◆◆◆◆◆◆　 *。..☆。'ㅇ'.。 \n",
      "☆''。*。.。'ㅇ. 　 ◆◆◆◆◆◆◆ 　☆'。*.☆。'ㅇ'.。 \n",
      "☆''。*。*.。'ㅇ..☆..　◆◆◆◆　 ☆''。*☆。'ㅇ'.。'☆ \n",
      "☆''。*。*.。'ㅇ..☆..☆　 ◆　 ☆''。*...☆。'ㅇ'.。'☆ \n",
      "。　　　．　 . 　 　˚　 .　　 ˙　。　.　 \n",
      "　　　.　°　 ★　 .　˚　 .　˙　。　 ． .　 �\n",
      "   \n",
      "   \n",
      "       \n",
      "        ◆  ◆ ◆ ◆       ◆         ◆  ◆ ◆ ◆\n",
      "                  ◆       ◆         ◆        ◆\n",
      "                  ◆     ◆◆◆       ◆        ◆\n",
      "        ◆  ◆  ◆◆       ◆         ◆        ◆\n",
      "                  ◆       ◆         ◆        ◆\n",
      "                  ◆       ◆         ◆        ◆\n",
      "        ◆  ◆  ◆◆       ◆         ◆  ◆ ◆ ◆   \n",
      "                   \n",
      "###########################################################################################        \n",
      "        \n",
      "        \n",
      "        forever forever               forever forever             forever forever forever\n",
      "        forever forever               forever forever             forever forever forever           \n",
      "                forever                   forever                 forever forever forever\n",
      "                    forever               forever                 forever         forever\n",
      "                    forever               forever                 forever         forever\n",
      "                    forever               forever                 forever         forever\n",
      "                      forever             forever                 forever         forever\n",
      "        forever forever forever           forever                 forever         forever\n",
      "        forever forever forever           forever                 forever         forever\n",
      "                      forever             forever                 forever         forever\n",
      "                    forever               forever                 forever         forever\n",
      "                    forever               forever                 forever         forever\n",
      "                    forever               forever                 forever         forever\n",
      "           ################################################### "
     ]
    },
    {
     "data": {
      "image/png": "[encoded data removed]",
      "text/plain": [
       "<Figure size 432x288 with 1 Axes>"
      ]
     },
     "metadata": {
      "needs_background": "light"
     },
     "output_type": "display_data"
    },
    {
     "data": {
      "text/plain": [
       "<Figure size 432x288 with 0 Axes>"
      ]
     },
     "metadata": {},
     "output_type": "display_data"
    }
   ],
   "source": [
    "t =\"\"\" \n",
    "       █　　　　　█　█ 　　　　 　     \n",
    "　     █　　　█████　　　　 \n",
    "       █　　   　 █　　　　   　 \n",
    "　     █      █████　　  　　████████   \n",
    "       █      █  █  █　   　　 █            █\n",
    "　 █████　█████　　      █            █\n",
    "　     █　　　█　█　█　　　　　█　　　　　　█\n",
    "　     █　　  █████          ████████\n",
    "       █   　 █  █  █                █ █\n",
    "       █   　 █  ███               █   █\n",
    "       █             █               █     █\n",
    "       █    █　█　█　█　　　　   █      █\n",
    "　     █　　      █ █　　　　　　█　　　  █\n",
    "　     █　　　 █  █　　　　　　█　        █      █\n",
    "　     █　　　　    █　　　　██            ████\n",
    "       █　　　　 ██　　　　　　                         \n",
    "       \n",
    "            ┊┊┊\n",
    "            ┊┊┊┊☆☆☆☆☆☆☆☆\n",
    "            ┊┊┊╭┻┻┻┻┻┻┻┻╮┊┊┊\n",
    "            ┊┊┊┃╱╲╱╲╱╲╱╲┃┊┊┊\n",
    "            ┊┊╭┻━━━━━━━━┻╮┊┊\n",
    "            ┊┊┃╱╲╱╲╱╲╱╲╱╲┃┊┊\n",
    "            ╱▔┗━━━━━━━━━━┛▔╲     \n",
    "            \n",
    "                ◢████████████◣                \n",
    "               ██████████████                \n",
    "               ██       ◥██◤       ██                \n",
    "           ◢███         ◥◤         ██◣              \n",
    "           ▊▎██◣                  ◢█▊▊              \n",
    "           ▊▎██◤     ●     ●      ◥█▊▊            \n",
    "           ▊   ██                     █▊▊              \n",
    "           ◥▇██   ▊             ▊   █▇◤              \n",
    "               ██   ◥▆▄▄▄▄▆◤   █▊       ◢▇▇◣  \n",
    "        ◢██◥◥▆▅▄▂▂▂▂▄▅▆███◣ ▊ ◢   █  \n",
    "        █╳                              ╳█   ◥◤◢◤  \n",
    "        ◥█◣       ˙           ˙     ◢█◤     ◢◤    \n",
    "             ▊                          ▊         █      \n",
    "             ▊                          ▊       ◢◤      \n",
    "             ▊             ⊕            █▇▇▇◤      \n",
    "           ◢█▇▆▆▆▅▅▅▅▆▆▆▇█◣  \n",
    "           \n",
    "           。'ㅇ'☆''。*。*.。'☆*。。'ㅇ.☆.。'..*。*。..。'ㅇ'。 \n",
    ".。'☆。' 　 ◆◆◆◆　'☆*。.*ㅇ ◆◆◆◆　 .。'☆。' \n",
    ". 。' ' 　◆◆◆◆◆◆◆ *☆ ◆◆◆◆◆◆◆◆　 .。' ' \n",
    "'。☆　◆◆◆◆◆◆◆◆◆◆◆◆◆◆◆◆◆◆◆　 ''。☆ \n",
    ".。 　 ◆◆◆◆◆◆◆◆◆◆◆◆◆◆◆◆◆◆◆◆　.*ㅇ \n",
    "'☆　◆◆◆◆◆◆◆◆◆◆◆◆◆◆◆◆◆◆◆◆◆　 .。 \n",
    ".*ㅇ ◆◆◆◆◆◆◆◆◆◆◆◆◆◆◆◆◆◆◆◆◆　''☆ \n",
    "''☆　◆◆◆◆◆◆◆◆◆◆◆◆◆◆◆◆◆◆◆◆　.☆. \n",
    ".☆. 　◆◆◆◆◆◆◆◆◆◆◆◆◆◆◆◆◆◆◆　.*ㅇ \n",
    "ㅇ'.. 　 ◆◆◆◆◆◆◆◆◆◆◆◆◆◆◆◆◆　 。''☆ \n",
    "。''☆''。　 ◆◆◆◆◆◆◆◆◆◆◆◆◆◆　 。'。'☆''。 \n",
    "*。..。'ㅇ'.。　 ◆◆◆◆◆◆◆◆◆◆　 *。..☆。'ㅇ'.。 \n",
    "☆''。*。.。'ㅇ. 　 ◆◆◆◆◆◆◆ 　☆'。*.☆。'ㅇ'.。 \n",
    "☆''。*。*.。'ㅇ..☆..　◆◆◆◆　 ☆''。*☆。'ㅇ'.。'☆ \n",
    "☆''。*。*.。'ㅇ..☆..☆　 ◆　 ☆''。*...☆。'ㅇ'.。'☆ \n",
    "。　　　．　 . 　 　˚　 .　　 ˙　。　.　 \n",
    "　　　.　°　 ★　 .　˚　 .　˙　。　 ． .　 �\n",
    "   \n",
    "   \n",
    "       \n",
    "        ◆  ◆ ◆ ◆       ◆         ◆  ◆ ◆ ◆\n",
    "                  ◆       ◆         ◆        ◆\n",
    "                  ◆     ◆◆◆       ◆        ◆\n",
    "        ◆  ◆  ◆◆       ◆         ◆        ◆\n",
    "                  ◆       ◆         ◆        ◆\n",
    "                  ◆       ◆         ◆        ◆\n",
    "        ◆  ◆  ◆◆       ◆         ◆  ◆ ◆ ◆   \n",
    "                   \n",
    "###########################################################################################        \n",
    "        \n",
    "        \n",
    "        forever forever               forever forever             forever forever forever\n",
    "        forever forever               forever forever             forever forever forever           \n",
    "                forever                   forever                 forever forever forever\n",
    "                    forever               forever                 forever         forever\n",
    "                    forever               forever                 forever         forever\n",
    "                    forever               forever                 forever         forever\n",
    "                      forever             forever                 forever         forever\n",
    "        forever forever forever           forever                 forever         forever\n",
    "        forever forever forever           forever                 forever         forever\n",
    "                      forever             forever                 forever         forever\n",
    "                    forever               forever                 forever         forever\n",
    "                    forever               forever                 forever         forever\n",
    "                    forever               forever                 forever         forever\n",
    "                   forever                forever                 forever forever forever\n",
    "        forever forever               forever forever             forever forever forever\n",
    "        forever forever               forever forever             forever forever forever\n",
    " \n",
    "\n",
    " ########################################################################################### \"\"\"  \n",
    "for i in t:\n",
    "    sys.stdout.write(i)  # print(i) = sys.stdout.write(i+ \\n)，一次性输出\n",
    "    sys.stdout.flush() # 缓冲输出，刷新区域\n",
    "print('',end='')\n",
    "import matplotlib.pyplot as plt\n",
    "from keras.preprocessing.image import load_img\n",
    "path = r'C:\\Users\\Administrator\\Desktop\\1.jpeg'\n",
    "plt.imshow(load_img(path))\n",
    "plt.figure()\n",
    "plt.show()\n",
    "    \n",
    "    \n",
    "    \n",
    "    \n",
    "    \n",
    "    \n",
    "    \n",
    "    \n",
    "    \n",
    "    \n",
    "    \n",
    "    \n",
    "    \n",
    "    \n",
    "    \n",
    "    \n",
    "    \n",
    "    \n",
    "    \n",
    "    \n",
    "    "
   ]
  },
  {
   "cell_type": "markdown",
   "metadata": {},
   "source": [
    "\n",
    "\n",
    "\n",
    "\n",
    "\n",
    "\n",
    "\n",
    "\n",
    "\n",
    "\n",
    "\n",
    "\n",
    "\n",
    "\n",
    "\n",
    "\n",
    "\n",
    "\n",
    "\n",
    "\n",
    "\n",
    "\n",
    "\n",
    "\n",
    "\n"
   ]
  },
  {
   "cell_type": "code",
   "execution_count": null,
   "metadata": {},
   "outputs": [],
   "source": []
  },
  {
   "cell_type": "code",
   "execution_count": null,
   "metadata": {},
   "outputs": [],
   "source": []
  },
  {
   "cell_type": "code",
   "execution_count": null,
   "metadata": {},
   "outputs": [],
   "source": []
  },
  {
   "cell_type": "code",
   "execution_count": null,
   "metadata": {},
   "outputs": [],
   "source": []
  },
  {
   "cell_type": "code",
   "execution_count": null,
   "metadata": {},
   "outputs": [],
   "source": []
  },
  {
   "cell_type": "code",
   "execution_count": null,
   "metadata": {},
   "outputs": [],
   "source": []
  },
  {
   "cell_type": "code",
   "execution_count": null,
   "metadata": {},
   "outputs": [],
   "source": []
  },
  {
   "cell_type": "code",
   "execution_count": null,
   "metadata": {},
   "outputs": [],
   "source": []
  },
  {
   "cell_type": "code",
   "execution_count": null,
   "metadata": {},
   "outputs": [],
   "source": []
  },
  {
   "cell_type": "code",
   "execution_count": null,
   "metadata": {},
   "outputs": [],
   "source": [
    "\n",
    "As you can see, a low temperature results in extremely repetitive and predictable text, but where local structure is highly realistic: in \n",
    "particular, all words (a word being a local pattern of characters) are real English words. With higher temperatures, the generated text \n",
    "becomes more interesting, surprising, even creative; it may sometimes invent completely new words that sound somewhat plausible (such as \n",
    "\"eterned\" or \"troveration\"). With a high temperature, the local structure starts breaking down and most words look like semi-random strings \n",
    "of characters. Without a doubt, here 0.5 is the most interesting temperature for text generation in this specific setup. Always experiment \n",
    "with multiple sampling strategies! A clever balance between learned structure and randomness is what makes generation interesting.\n",
    "\n",
    "Note that by training a bigger model, longer, on more data, you can achieve generated samples that will look much more coherent and \n",
    "realistic than ours. But of course, don't expect to ever generate any meaningful text, other than by random chance: all we are doing is \n",
    "sampling data from a statistical model of which characters come after which characters. Language is a communication channel, and there is \n",
    "a distinction between what communications are about, and the statistical structure of the messages in which communications are encoded. To \n",
    "evidence this distinction, here is a thought experiment: what if human language did a better job at compressing communications, much like \n",
    "our computers do with most of our digital communications? Then language would be no less meaningful, yet it would lack any intrinsic \n",
    "statistical structure, thus making it impossible to learn a language model like we just did.\n",
    "\n",
    "\n",
    "## Take aways\n",
    "\n",
    "* We can generate discrete sequence data by training a model to predict the next tokens(s) given previous tokens.\n",
    "* In the case of text, such a model is called a \"language model\" and could be based on either words or characters.\n",
    "* Sampling the next token requires balance between adhering to what the model judges likely, and introducing randomness.\n",
    "* One way to handle this is the notion of _softmax temperature_. Always experiment with different temperatures to find the \"right\" one."
   ]
  },
  {
   "cell_type": "code",
   "execution_count": null,
   "metadata": {},
   "outputs": [],
   "source": []
  }
 ],
 "metadata": {
  "kernelspec": {
   "display_name": "Python 3",
   "language": "python",
   "name": "python3"
  },
  "language_info": {
   "codemirror_mode": {
    "name": "ipython",
    "version": 3
   },
   "file_extension": ".py",
   "mimetype": "text/x-python",
   "name": "python",
   "nbconvert_exporter": "python",
   "pygments_lexer": "ipython3",
   "version": "3.7.0"
  }
 },
 "nbformat": 4,
 "nbformat_minor": 2
}
