{
 "cells": [
  {
   "cell_type": "markdown",
   "metadata": {},
   "source": [
    "## IMDB影评数据-二分类"
   ]
  },
  {
   "cell_type": "markdown",
   "metadata": {},
   "source": [
    "### 加载数据"
   ]
  },
  {
   "cell_type": "code",
   "execution_count": 10,
   "metadata": {},
   "outputs": [],
   "source": [
    "from keras.datasets import imdb\n",
    "(train_data,train_labels),(test_data,test_labels) = imdb.load_data(num_words=10000)"
   ]
  },
  {
   "cell_type": "code",
   "execution_count": 2,
   "metadata": {},
   "outputs": [
    {
     "data": {
      "text/plain": [
       "9999"
      ]
     },
     "execution_count": 2,
     "metadata": {},
     "output_type": "execute_result"
    }
   ],
   "source": [
    "max(max(sequence) for sequence in  train_data)  # 索引在（0,999）"
   ]
  },
  {
   "cell_type": "code",
   "execution_count": 3,
   "metadata": {},
   "outputs": [
    {
     "data": {
      "text/plain": [
       "(25000,)"
      ]
     },
     "execution_count": 3,
     "metadata": {},
     "output_type": "execute_result"
    }
   ],
   "source": [
    "train_data.shape  # 一维张量，没篇不一样"
   ]
  },
  {
   "cell_type": "code",
   "execution_count": 4,
   "metadata": {},
   "outputs": [
    {
     "data": {
      "text/plain": [
       "\"? this film was just brilliant casting location scenery story direction everyone's really suited the part they played and you could just imagine being there robert ? is an amazing actor and now the same being director ? father came from the same scottish island as myself so i loved the fact there was a real connection with this film the witty remarks throughout the film were great it was just brilliant so much that i bought the film as soon as it was released for ? and would recommend it to everyone to watch and the fly fishing was amazing really cried at the end it was so sad and you know what they say if you cry at a film it must have been good and this definitely was also ? to the two little boy's that played the ? of norman and paul they were just brilliant children are often left out of the ? list i think because the stars that play them all grown up are such a big profile for the whole film but these children are amazing and should be praised for what they have done don't you think the whole story was so lovely because it was true and was someone's life after all that was shared with us all\""
      ]
     },
     "execution_count": 4,
     "metadata": {},
     "output_type": "execute_result"
    }
   ],
   "source": [
    "# 映射一下数据\n",
    "word_index = imdb.get_word_index()  #word_index 是一个将单词映射为整数索引的字典\n",
    "reverse_word_index = dict(\n",
    " [(value, key) for (key, value) in word_index.items()])  # 方向字典\n",
    "decoded_review = ' '.join(\n",
    " [reverse_word_index.get(i - 3, '?') for i in train_data[0]]) \n",
    "# 0、1、2是为“padding”（填充）、“start of sequence”（序列开始）、“unknown”（未知词）分别保留的索引\n",
    "# 原始序列化的时候都+3,0,1,2保留给上面，字典中没变，get(*,'?')获得value,f找不到回复‘？’\n",
    "decoded_review"
   ]
  },
  {
   "cell_type": "markdown",
   "metadata": {},
   "source": [
    "### 数据预处理"
   ]
  },
  {
   "cell_type": "code",
   "execution_count": 5,
   "metadata": {},
   "outputs": [],
   "source": [
    "import numpy as np\n",
    "def vectorize_sequences(sequences, dimension=10000):\n",
    "        results = np.zeros((len(sequences), dimension)) \n",
    "        for i, sequence in enumerate(sequences):\n",
    "            results[i, sequence] = 1.           #重复不管，每次取一行，取后sequence是一个list,对每一行有值就取1\n",
    "        return results\n",
    "x_train = vectorize_sequences(train_data) \n",
    "x_test = vectorize_sequences(test_data)"
   ]
  },
  {
   "cell_type": "code",
   "execution_count": 6,
   "metadata": {},
   "outputs": [
    {
     "data": {
      "text/plain": [
       "array([0., 1., 1., ..., 0., 0., 0.])"
      ]
     },
     "execution_count": 6,
     "metadata": {},
     "output_type": "execute_result"
    }
   ],
   "source": [
    "x_train[0]"
   ]
  },
  {
   "cell_type": "code",
   "execution_count": 8,
   "metadata": {},
   "outputs": [],
   "source": [
    "# 标签向量化\n",
    "y_train = np.asarray(train_labels).astype('float32')  # 变成列表和浮点\n",
    "y_test = np.asarray(test_labels).astype('float32') # 变成列表和浮点"
   ]
  },
  {
   "cell_type": "code",
   "execution_count": 9,
   "metadata": {},
   "outputs": [
    {
     "data": {
      "text/plain": [
       "array([1., 0., 0., ..., 0., 1., 0.], dtype=float32)"
      ]
     },
     "execution_count": 9,
     "metadata": {},
     "output_type": "execute_result"
    }
   ],
   "source": [
    "y_train"
   ]
  },
  {
   "cell_type": "markdown",
   "metadata": {},
   "source": [
    "### 模型搭建"
   ]
  },
  {
   "cell_type": "code",
   "execution_count": 12,
   "metadata": {},
   "outputs": [
    {
     "name": "stdout",
     "output_type": "stream",
     "text": [
      "WARNING:tensorflow:From D:\\Anaconda\\lib\\site-packages\\tensorflow\\python\\ops\\nn_impl.py:180: add_dispatch_support.<locals>.wrapper (from tensorflow.python.ops.array_ops) is deprecated and will be removed in a future version.\n",
      "Instructions for updating:\n",
      "Use tf.where in 2.0, which has the same broadcast rule as np.where\n"
     ]
    }
   ],
   "source": [
    "from keras import models\n",
    "from keras import layers\n",
    "\n",
    "model = models.Sequential()\n",
    "model.add(layers.Dense(16, activation='relu', input_shape=(10000,)))\n",
    "model.add(layers.Dense(16, activation='relu'))\n",
    "model.add(layers.Dense(1, activation='sigmoid'))  # 二分类\n",
    "\n",
    "\n",
    "# 优化器\n",
    "model.compile(optimizer='rmsprop',\n",
    "loss='binary_crossentropy',     # 损失函数\n",
    "metrics=['accuracy'])"
   ]
  },
  {
   "cell_type": "code",
   "execution_count": 13,
   "metadata": {},
   "outputs": [
    {
     "name": "stdout",
     "output_type": "stream",
     "text": [
      "Model: \"sequential_1\"\n",
      "_________________________________________________________________\n",
      "Layer (type)                 Output Shape              Param #   \n",
      "=================================================================\n",
      "dense_1 (Dense)              (None, 16)                160016    \n",
      "_________________________________________________________________\n",
      "dense_2 (Dense)              (None, 16)                272       \n",
      "_________________________________________________________________\n",
      "dense_3 (Dense)              (None, 1)                 17        \n",
      "=================================================================\n",
      "Total params: 160,305\n",
      "Trainable params: 160,305\n",
      "Non-trainable params: 0\n",
      "_________________________________________________________________\n"
     ]
    }
   ],
   "source": [
    "model.summary()"
   ]
  },
  {
   "cell_type": "markdown",
   "metadata": {},
   "source": [
    "### 划分验证集"
   ]
  },
  {
   "cell_type": "code",
   "execution_count": 14,
   "metadata": {},
   "outputs": [],
   "source": [
    "x_val = x_train[:10000]  # 验证数据\n",
    "partial_x_train = x_train[10000:]  # 训练数据\n",
    "y_val = y_train[:10000]\n",
    "partial_y_train = y_train[10000:]"
   ]
  },
  {
   "cell_type": "markdown",
   "metadata": {},
   "source": [
    "### 训练"
   ]
  },
  {
   "cell_type": "code",
   "execution_count": 16,
   "metadata": {},
   "outputs": [
    {
     "name": "stdout",
     "output_type": "stream",
     "text": [
      "WARNING:tensorflow:From D:\\Anaconda\\lib\\site-packages\\keras\\backend\\tensorflow_backend.py:422: The name tf.global_variables is deprecated. Please use tf.compat.v1.global_variables instead.\n",
      "\n",
      "Train on 15000 samples, validate on 10000 samples\n",
      "Epoch 1/20\n",
      "15000/15000 [==============================] - 12s 823us/step - loss: 0.5300 - accuracy: 0.7852 - val_loss: 0.3947 - val_accuracy: 0.8726\n",
      "Epoch 2/20\n",
      "15000/15000 [==============================] - 3s 225us/step - loss: 0.3173 - accuracy: 0.9007 - val_loss: 0.3387 - val_accuracy: 0.8666\n",
      "Epoch 3/20\n",
      "15000/15000 [==============================] - 3s 223us/step - loss: 0.2298 - accuracy: 0.9271 - val_loss: 0.2823 - val_accuracy: 0.8895\n",
      "Epoch 4/20\n",
      "15000/15000 [==============================] - 4s 238us/step - loss: 0.1780 - accuracy: 0.9437 - val_loss: 0.2722 - val_accuracy: 0.8904\n",
      "Epoch 5/20\n",
      "15000/15000 [==============================] - 4s 245us/step - loss: 0.1438 - accuracy: 0.9539 - val_loss: 0.2791 - val_accuracy: 0.8887\n",
      "Epoch 6/20\n",
      "15000/15000 [==============================] - 4s 243us/step - loss: 0.1170 - accuracy: 0.9658 - val_loss: 0.2912 - val_accuracy: 0.8868\n",
      "Epoch 7/20\n",
      "15000/15000 [==============================] - 4s 246us/step - loss: 0.0946 - accuracy: 0.9737 - val_loss: 0.3082 - val_accuracy: 0.8852\n",
      "Epoch 8/20\n",
      "15000/15000 [==============================] - 4s 241us/step - loss: 0.0776 - accuracy: 0.9792 - val_loss: 0.3525 - val_accuracy: 0.8751\n",
      "Epoch 9/20\n",
      "15000/15000 [==============================] - 4s 240us/step - loss: 0.0645 - accuracy: 0.9821 - val_loss: 0.3556 - val_accuracy: 0.8811\n",
      "Epoch 10/20\n",
      "15000/15000 [==============================] - 4s 237us/step - loss: 0.0466 - accuracy: 0.9898 - val_loss: 0.3909 - val_accuracy: 0.8777\n",
      "Epoch 11/20\n",
      "15000/15000 [==============================] - 4s 247us/step - loss: 0.0396 - accuracy: 0.9914 - val_loss: 0.4067 - val_accuracy: 0.8749\n",
      "Epoch 12/20\n",
      "15000/15000 [==============================] - 3s 226us/step - loss: 0.0294 - accuracy: 0.9945 - val_loss: 0.4474 - val_accuracy: 0.8758\n",
      "Epoch 13/20\n",
      "15000/15000 [==============================] - 3s 193us/step - loss: 0.0256 - accuracy: 0.9948 - val_loss: 0.4666 - val_accuracy: 0.8741\n",
      "Epoch 14/20\n",
      "15000/15000 [==============================] - 3s 189us/step - loss: 0.0207 - accuracy: 0.9967 - val_loss: 0.4984 - val_accuracy: 0.8729\n",
      "Epoch 15/20\n",
      "15000/15000 [==============================] - 3s 192us/step - loss: 0.0112 - accuracy: 0.9993 - val_loss: 0.5359 - val_accuracy: 0.8692\n",
      "Epoch 16/20\n",
      "15000/15000 [==============================] - 4s 268us/step - loss: 0.0118 - accuracy: 0.9982 - val_loss: 0.5690 - val_accuracy: 0.8674\n",
      "Epoch 17/20\n",
      "15000/15000 [==============================] - 4s 249us/step - loss: 0.0085 - accuracy: 0.9991 - val_loss: 0.6035 - val_accuracy: 0.8672\n",
      "Epoch 18/20\n",
      "15000/15000 [==============================] - 3s 192us/step - loss: 0.0078 - accuracy: 0.9987 - val_loss: 0.6278 - val_accuracy: 0.8674\n",
      "Epoch 19/20\n",
      "15000/15000 [==============================] - 3s 191us/step - loss: 0.0034 - accuracy: 0.9998 - val_loss: 0.6692 - val_accuracy: 0.8667\n",
      "Epoch 20/20\n",
      "15000/15000 [==============================] - 3s 193us/step - loss: 0.0056 - accuracy: 0.9991 - val_loss: 0.7012 - val_accuracy: 0.8670\n"
     ]
    }
   ],
   "source": [
    "history = model.fit(partial_x_train\n",
    "                    ,partial_y_train\n",
    "                    ,epochs=20    # 做20次\n",
    "                    ,batch_size=512\n",
    "                    ,validation_data=(x_val, y_val))"
   ]
  },
  {
   "cell_type": "markdown",
   "metadata": {},
   "source": [
    "### 可视化\n",
    "#### loss"
   ]
  },
  {
   "cell_type": "code",
   "execution_count": 22,
   "metadata": {},
   "outputs": [
    {
     "data": {
      "image/png": "[encoded data removed]",
      "text/plain": [
       "<Figure size 432x288 with 1 Axes>"
      ]
     },
     "metadata": {
      "needs_background": "light"
     },
     "output_type": "display_data"
    }
   ],
   "source": [
    "import matplotlib.pyplot as plt\n",
    "history_dict = history.history   #信息字典\n",
    "\n",
    "\n",
    "loss_values = history_dict['loss']  # 训练集的loss\n",
    "val_loss_values = history_dict['val_loss']  # 验证集的loss\n",
    "epochs = range(1, len(loss_values) + 1)\n",
    "\n",
    "plt.plot(epochs, loss_values, 'bo', label='Training loss') \n",
    "plt.plot(epochs, val_loss_values, 'b', label='Validation loss') \n",
    "plt.title('Training and validation loss')\n",
    "plt.xlabel('Epochs')\n",
    "plt.ylabel('Loss')\n",
    "plt.legend()\n",
    "\n",
    "plt.show()"
   ]
  },
  {
   "cell_type": "code",
   "execution_count": 24,
   "metadata": {},
   "outputs": [
    {
     "data": {
      "text/plain": [
       "dict_keys(['val_loss', 'val_accuracy', 'loss', 'accuracy'])"
      ]
     },
     "execution_count": 24,
     "metadata": {},
     "output_type": "execute_result"
    }
   ],
   "source": [
    "history_dict = history.history\n",
    "history_dict.keys()"
   ]
  },
  {
   "cell_type": "markdown",
   "metadata": {},
   "source": [
    "#### accuracy"
   ]
  },
  {
   "cell_type": "code",
   "execution_count": 26,
   "metadata": {},
   "outputs": [
    {
     "data": {
      "image/png": "[encoded data removed]",
      "text/plain": [
       "<Figure size 432x288 with 1 Axes>"
      ]
     },
     "metadata": {
      "needs_background": "light"
     },
     "output_type": "display_data"
    }
   ],
   "source": [
    "plt.clf()  # 清空 \n",
    "\n",
    "acc = history_dict['accuracy'] \n",
    "val_acc = history_dict['val_accuracy']\n",
    "plt.plot(epochs, acc, 'bo', label='Training acc')\n",
    "plt.plot(epochs, val_acc, 'b', label='Validation acc')\n",
    "plt.title('Training and validation accuracy')\n",
    "plt.xlabel('Epochs')\n",
    "plt.ylabel('Accuracy')\n",
    "plt.legend()\n",
    "plt.show()"
   ]
  },
  {
   "cell_type": "code",
   "execution_count": 29,
   "metadata": {},
   "outputs": [
    {
     "data": {
      "text/plain": [
       "0.9686467"
      ]
     },
     "execution_count": 29,
     "metadata": {},
     "output_type": "execute_result"
    }
   ],
   "source": [
    "acc = np.mean(acc)\n",
    "acc"
   ]
  },
  {
   "cell_type": "markdown",
   "metadata": {},
   "source": [
    "### 重构模型  - 改变epochs\n",
    "### test数据上结果"
   ]
  },
  {
   "cell_type": "code",
   "execution_count": 30,
   "metadata": {},
   "outputs": [
    {
     "name": "stdout",
     "output_type": "stream",
     "text": [
      "Epoch 1/4\n",
      "25000/25000 [==============================] - 10s 405us/step - loss: 0.5374 - accuracy: 0.8084\n",
      "Epoch 2/4\n",
      "25000/25000 [==============================] - 3s 126us/step - loss: 0.3223 - accuracy: 0.8982\n",
      "Epoch 3/4\n",
      "25000/25000 [==============================] - 3s 121us/step - loss: 0.2331 - accuracy: 0.9201\n",
      "Epoch 4/4\n",
      "25000/25000 [==============================] - 3s 116us/step - loss: 0.1897 - accuracy: 0.9331\n",
      "25000/25000 [==============================] - 45s 2ms/step\n"
     ]
    }
   ],
   "source": [
    "model = models.Sequential()\n",
    "model.add(layers.Dense(16, activation='relu', input_shape=(10000,)))\n",
    "model.add(layers.Dense(16, activation='relu'))\n",
    "model.add(layers.Dense(1, activation='sigmoid'))\n",
    "model.compile(optimizer='rmsprop'\n",
    "              ,loss='binary_crossentropy'\n",
    "              ,metrics=['accuracy'])\n",
    "model.fit(x_train, y_train, epochs=4, batch_size=512)  # 训练集全扔进去\n",
    "results = model.evaluate(x_test, y_test)"
   ]
  },
  {
   "cell_type": "code",
   "execution_count": 31,
   "metadata": {},
   "outputs": [
    {
     "data": {
      "text/plain": [
       "[0.28053938200950623, 0.8894799947738647]"
      ]
     },
     "execution_count": 31,
     "metadata": {},
     "output_type": "execute_result"
    }
   ],
   "source": [
    "results  # loss 和 accuracy"
   ]
  },
  {
   "cell_type": "code",
   "execution_count": 32,
   "metadata": {},
   "outputs": [
    {
     "data": {
      "text/plain": [
       "array([[0.21811754],\n",
       "       [0.99991727],\n",
       "       [0.9244898 ],\n",
       "       ...,\n",
       "       [0.10910511],\n",
       "       [0.10587415],\n",
       "       [0.5470175 ]], dtype=float32)"
      ]
     },
     "execution_count": 32,
     "metadata": {},
     "output_type": "execute_result"
    }
   ],
   "source": [
    "model.predict(x_test)"
   ]
  },
  {
   "cell_type": "code",
   "execution_count": 35,
   "metadata": {},
   "outputs": [],
   "source": [
    "prediction = model.predict_classes(x_test)  # 类别"
   ]
  },
  {
   "cell_type": "markdown",
   "metadata": {},
   "source": [
    "### 编写混淆矩阵"
   ]
  },
  {
   "cell_type": "code",
   "execution_count": 37,
   "metadata": {},
   "outputs": [
    {
     "data": {
      "text/plain": [
       "array([0, 1, 1, ..., 0, 0, 1])"
      ]
     },
     "execution_count": 37,
     "metadata": {},
     "output_type": "execute_result"
    }
   ],
   "source": [
    "prediction.reshape(-1)"
   ]
  },
  {
   "cell_type": "code",
   "execution_count": 41,
   "metadata": {},
   "outputs": [
    {
     "data": {
      "text/html": [
       "<div>\n",
       "<style scoped>\n",
       "    .dataframe tbody tr th:only-of-type {\n",
       "        vertical-align: middle;\n",
       "    }\n",
       "\n",
       "    .dataframe tbody tr th {\n",
       "        vertical-align: top;\n",
       "    }\n",
       "\n",
       "    .dataframe thead th {\n",
       "        text-align: right;\n",
       "    }\n",
       "</style>\n",
       "<table border=\"1\" class=\"dataframe\">\n",
       "  <thead>\n",
       "    <tr style=\"text-align: right;\">\n",
       "      <th>predict</th>\n",
       "      <th>0</th>\n",
       "      <th>1</th>\n",
       "    </tr>\n",
       "    <tr>\n",
       "      <th>label标准答案</th>\n",
       "      <th></th>\n",
       "      <th></th>\n",
       "    </tr>\n",
       "  </thead>\n",
       "  <tbody>\n",
       "    <tr>\n",
       "      <th>0.0</th>\n",
       "      <td>10955</td>\n",
       "      <td>1545</td>\n",
       "    </tr>\n",
       "    <tr>\n",
       "      <th>1.0</th>\n",
       "      <td>1218</td>\n",
       "      <td>11282</td>\n",
       "    </tr>\n",
       "  </tbody>\n",
       "</table>\n",
       "</div>"
      ],
      "text/plain": [
       "predict        0      1\n",
       "label标准答案              \n",
       "0.0        10955   1545\n",
       "1.0         1218  11282"
      ]
     },
     "execution_count": 41,
     "metadata": {},
     "output_type": "execute_result"
    }
   ],
   "source": [
    "import pandas as pd\n",
    "\n",
    "pd.crosstab(y_test,prediction.reshape(-1)\n",
    "            ,rownames=['label标准答案']\n",
    "           ,colnames=['predict'])"
   ]
  },
  {
   "cell_type": "code",
   "execution_count": 44,
   "metadata": {},
   "outputs": [
    {
     "name": "stdout",
     "output_type": "stream",
     "text": [
      "              precision    recall  f1-score   support\n",
      "\n",
      "         0.0       0.90      0.88      0.89     12500\n",
      "         1.0       0.88      0.90      0.89     12500\n",
      "\n",
      "    accuracy                           0.89     25000\n",
      "   macro avg       0.89      0.89      0.89     25000\n",
      "weighted avg       0.89      0.89      0.89     25000\n",
      "\n"
     ]
    }
   ],
   "source": [
    "from sklearn.metrics import classification_report\n",
    "print(classification_report(y_test,prediction))"
   ]
  },
  {
   "cell_type": "code",
   "execution_count": null,
   "metadata": {},
   "outputs": [],
   "source": []
  }
 ],
 "metadata": {
  "kernelspec": {
   "display_name": "Python 3",
   "language": "python",
   "name": "python3"
  },
  "language_info": {
   "codemirror_mode": {
    "name": "ipython",
    "version": 3
   },
   "file_extension": ".py",
   "mimetype": "text/x-python",
   "name": "python",
   "nbconvert_exporter": "python",
   "pygments_lexer": "ipython3",
   "version": "3.7.0"
  }
 },
 "nbformat": 4,
 "nbformat_minor": 2
}
