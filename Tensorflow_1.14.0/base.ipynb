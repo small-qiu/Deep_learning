{
 "cells": [
  {
   "cell_type": "markdown",
   "metadata": {},
   "source": [
    "#### 1. hello world"
   ]
  },
  {
   "cell_type": "code",
   "execution_count": 3,
   "metadata": {},
   "outputs": [
    {
     "name": "stdout",
     "output_type": "stream",
     "text": [
      "welcome to the exciting world of Deep Neural Network!\n"
     ]
    }
   ],
   "source": [
    "import tensorflow as tf\n",
    "message = tf.constant('welcome to the exciting world of Deep Neural Network!')  # 声明为常量，变量为Variable  \n",
    "with tf.Session() as sess:\n",
    "    # run执行计算图\n",
    "    print(sess.run(message).decode())  "
   ]
  },
  {
   "cell_type": "markdown",
   "metadata": {},
   "source": [
    "#### 2.两个向量的和"
   ]
  },
  {
   "cell_type": "code",
   "execution_count": 8,
   "metadata": {},
   "outputs": [
    {
     "name": "stdout",
     "output_type": "stream",
     "text": [
      "[array([1, 2, 3, 4]), array([3, 3, 8, 7])]\n"
     ]
    }
   ],
   "source": [
    "# 递交的变量\n",
    "v_1 = tf.constant([1,2,3,4])\n",
    "v_2 = tf.constant([2,1,5,3])\n",
    "#递交的操作\n",
    "v_add = tf.add(v_1,v_2)\n",
    "#生成会话\n",
    "with tf.Session() as sess:\n",
    "    print(sess.run([v_1,v_add]))  #运行的结果在v_add中提取"
   ]
  },
  {
   "cell_type": "markdown",
   "metadata": {},
   "source": [
    "###### ps:采用with open 的方式不用close == \n",
    "\n",
    "\"<br>\n",
    "sess = tf.Session() <br>\n",
    "print(sess.run(v_add)) <br>\n",
    "sess.close()<br>\n",
    "\""
   ]
  },
  {
   "cell_type": "markdown",
   "metadata": {},
   "source": [
    "#### 3.简便方式--tf.InteractiveSession()"
   ]
  },
  {
   "cell_type": "code",
   "execution_count": 10,
   "metadata": {},
   "outputs": [
    {
     "name": "stdout",
     "output_type": "stream",
     "text": [
      "[3 3 8 7]\n"
     ]
    }
   ],
   "source": [
    "sess = tf.InteractiveSession()\n",
    "v_1 = tf.constant([1,2,3,4])\n",
    "v_2 = tf.constant([2,1,5,3])\n",
    "v_add = tf.add(v_1,v_2)\n",
    "print(v_add.eval())\n",
    "sess.close()"
   ]
  },
  {
   "cell_type": "markdown",
   "metadata": {},
   "source": [
    "#### 4.常量、变量、占位符"
   ]
  },
  {
   "cell_type": "code",
   "execution_count": 25,
   "metadata": {},
   "outputs": [
    {
     "name": "stdout",
     "output_type": "stream",
     "text": [
      "[2.   2.75 3.5  4.25 5.  ] [1 3] [2.  2.5 3.  3.5 4.  4.5]\n",
      "[[-1.8324823  1.2200226  1.1031684  1.6486678 -2.1511295]\n",
      " [ 2.1331878 -1.3384562 -0.4609988  0.6739213  1.0025555]]\n",
      "[[-0.3898768  -0.94399023 -1.320119  ]\n",
      " [-0.48511508  1.263194    0.95144075]]\n",
      "[[ 0.01493934 -1.5585597  -0.58463776 -0.47615474 -1.0048292 ]\n",
      " [ 1.0039591  -0.37774724  1.5660077  -0.8490109  -0.17765619]]\n"
     ]
    },
    {
     "name": "stderr",
     "output_type": "stream",
     "text": [
      "D:\\Anaconda\\lib\\site-packages\\tensorflow\\python\\client\\session.py:1735: UserWarning: An interactive session is already active. This can cause out-of-memory errors in some cases. You must explicitly call `InteractiveSession.close()` to release resources held by the other session(s).\n",
      "  warnings.warn('An interactive session is already active. This can '\n"
     ]
    }
   ],
   "source": [
    "# 声明标量常量\n",
    "t_1 = tf.constant(4)\n",
    "\n",
    "#  声明向量常量\n",
    "t_2 = tf.constant([1,3])\n",
    "\n",
    "# 所以元素都是0的常量\n",
    "t_zeros = tf.zeros([2,3],tf.int32)\n",
    "\n",
    "# 所有元素都是1\n",
    "t_ones = tf.ones([2,3],tf.int32)\n",
    "\n",
    "# 采用和Numpy一样的like\n",
    "t_zeros2 = tf.zeros_like(t_2)\n",
    "t_ones2 = tf.ones_like(t_2)\n",
    "\n",
    "\n",
    "# 等差数列\n",
    "range_t1 = tf.linspace(2.0,5,5)  # (star,end,nums)\n",
    "range_t2 = tf.range(2.0,5.0,0.5) # (star,end,delta),tensorflow对象不可迭代\n",
    "\n",
    "# 随机数种子\n",
    "tf.set_random_seed(54)\n",
    "# 正态分布\n",
    "normal_t1 = tf.random_normal([2,5],mean=0,stddev=1,seed=12)  #[M,N] shape\n",
    "#  截尾正态分布\n",
    "normal_t2 = tf.truncated_normal([2,3],mean=0,stddev=1,seed=12)\n",
    "# 伽马分布随机数\n",
    "gamma_t = tf.random_uniform([2,3],maxval=4,seed=12)\n",
    "\n",
    "\n",
    "\n",
    "# 对已有张量进行操作\n",
    "new_t1 = tf.random_crop(normal_t1,[2,3],seed=12)  #裁剪出一个大小为 [2，5] 的张量。\n",
    "new_t2 = tf.random_shuffle(normal_t1)    # 洗牌操作\n",
    "\n",
    "\n",
    "sess = tf.InteractiveSession()\n",
    "print(range_t1.eval(),t_2.eval(),range_t2.eval())\n",
    "print(normal_t1.eval())\n",
    "print(new_t1.eval())\n",
    "print(new_t2.eval())\n",
    "sess.close()"
   ]
  },
  {
   "cell_type": "markdown",
   "metadata": {},
   "source": [
    "#### 5.变量 -- 需要初始化"
   ]
  },
  {
   "cell_type": "code",
   "execution_count": 29,
   "metadata": {},
   "outputs": [
    {
     "name": "stdout",
     "output_type": "stream",
     "text": [
      "[[2.]]\n"
     ]
    }
   ],
   "source": [
    "rand_t = tf.random_uniform([50,50],0,10,seed=0)  #定义一个随机数生成器\n",
    "weights = tf.Variable(rand_t,name='ws')\n",
    "bs = tf.Variable(rand_t,name='bs')\n",
    "\n",
    "\n",
    "# 简单例子一,向量乘法\n",
    "# creat a variable\n",
    "w = tf.Variable([[0.5,1.0]]) # 行向量 1*2\n",
    "x = tf.Variable([[2.0],[1.0]]) # 列向量 2*1\n",
    "\n",
    "y = tf.matmul(w,x)\n",
    "\n",
    "\n",
    "# 初始化变量\n",
    "init_op = tf.global_variables_initializer()\n",
    "\n",
    "# 会话\n",
    "with tf.Session() as sess:\n",
    "    sess.run(init_op)   #操做\n",
    "    print(y.eval())"
   ]
  },
  {
   "cell_type": "markdown",
   "metadata": {},
   "source": [
    "#### 6.占位符"
   ]
  },
  {
   "cell_type": "code",
   "execution_count": null,
   "metadata": {},
   "outputs": [],
   "source": [
    "x = tf.placeholder(\"fload\")\n",
    "y = 2*x\n",
    "data = tf.random_uniform([4,5],10)\n",
    "with tf.Session() as sess:\n",
    "    x_data = sess.run(data)  # 获得x_data数据\n",
    "    print(sess.run(y,feed_dict={x:x_data}))  # 将数据传入占位符"
   ]
  },
  {
   "cell_type": "markdown",
   "metadata": {},
   "source": [
    "#### 7.矩阵"
   ]
  },
  {
   "cell_type": "code",
   "execution_count": 36,
   "metadata": {},
   "outputs": [
    {
     "name": "stdout",
     "output_type": "stream",
     "text": [
      "[[1. 0. 0. 0. 0.]\n",
      " [0. 1. 0. 0. 0.]\n",
      " [0. 0. 1. 0. 0.]\n",
      " [0. 0. 0. 1. 0.]\n",
      " [0. 0. 0. 0. 1.]]\n",
      "[[1. 0. 0. 0. 0. 0. 0. 0. 0. 0.]\n",
      " [0. 1. 0. 0. 0. 0. 0. 0. 0. 0.]\n",
      " [0. 0. 1. 0. 0. 0. 0. 0. 0. 0.]\n",
      " [0. 0. 0. 1. 0. 0. 0. 0. 0. 0.]\n",
      " [0. 0. 0. 0. 1. 0. 0. 0. 0. 0.]\n",
      " [0. 0. 0. 0. 0. 1. 0. 0. 0. 0.]\n",
      " [0. 0. 0. 0. 0. 0. 1. 0. 0. 0.]\n",
      " [0. 0. 0. 0. 0. 0. 0. 1. 0. 0.]\n",
      " [0. 0. 0. 0. 0. 0. 0. 0. 1. 0.]\n",
      " [0. 0. 0. 0. 0. 0. 0. 0. 0. 1.]]\n",
      "[[ 1.0409329e-01  1.7612766e-01  4.0092114e-01 -4.7359362e-01\n",
      "  -8.9008081e-01 -3.2931033e-01  1.1805335e+00 -7.4498290e-01\n",
      "  -5.3467947e-01 -3.2709023e-01]\n",
      " [-1.0903871e+00 -4.5062423e-01 -1.0952277e+00 -2.0352075e+00\n",
      "   8.9649904e-01 -6.4399093e-01  9.0725553e-01  1.5119251e+00\n",
      "   1.9310859e+00 -1.8151686e-01]\n",
      " [ 4.8359025e-01 -3.6523750e-01 -9.3610687e-03  2.3846766e-01\n",
      "  -5.7576794e-02 -2.9349419e-01  7.1988559e-01  2.8593734e-01\n",
      "  -5.6753451e-01  9.3321717e-01]\n",
      " [ 1.9533842e+00 -7.5417733e-01 -1.6613606e+00 -1.3091313e+00\n",
      "  -9.9098772e-01  1.8286766e-01 -3.5699734e-01  8.1675082e-01\n",
      "  -1.5196128e+00 -2.9634106e+00]\n",
      " [-6.6062599e-01  5.9208006e-01 -2.4670744e-01 -4.3905506e-01\n",
      "  -1.1164219e+00 -1.6902040e-03 -4.3922824e-01 -1.1991174e+00\n",
      "   8.2727247e-01 -1.9541866e-01]]\n",
      "WARNING:tensorflow:From <ipython-input-36-7b7c8317b8e6>:36: div (from tensorflow.python.ops.math_ops) is deprecated and will be removed in a future version.\n",
      "Instructions for updating:\n",
      "Deprecated in favor of operator or tf.math.divide.\n"
     ]
    },
    {
     "name": "stderr",
     "output_type": "stream",
     "text": [
      "D:\\Anaconda\\lib\\site-packages\\tensorflow\\python\\client\\session.py:1735: UserWarning: An interactive session is already active. This can cause out-of-memory errors in some cases. You must explicitly call `InteractiveSession.close()` to release resources held by the other session(s).\n",
      "  warnings.warn('An interactive session is already active. This can '\n"
     ]
    }
   ],
   "source": [
    "import tensorflow as tf\n",
    "sess = tf.InteractiveSession()  #创建会话\n",
    "\n",
    "# 5x5 单位 matrix\n",
    "I_matrix = tf.eye(5)\n",
    "print(I_matrix.eval())\n",
    "\n",
    "# Variable\n",
    "X = tf.Variable(tf.eye(10))\n",
    "X.initializer.run()  #初始化\n",
    "print(X.eval())\n",
    "\n",
    "# random 5x10 matrix\n",
    "A = tf.Variable(tf.random_normal([5,10]))\n",
    "A.initializer.run()\n",
    "\n",
    "# mutiply\n",
    "product = tf.matmul(A,X)\n",
    "print(product.eval())\n",
    "\n",
    "#b_new=tf.cast(b,dtype=tf.int32)  将b的数据类型变为int32\n",
    "\n",
    "\n",
    "B = tf.Variable(tf.random_normal([5,10]))\n",
    "B.initializer.run()\n",
    "#矩阵相加和相减\n",
    "#t_sum = tf.add(A,B) == A + B\n",
    "#t_sub = A - B\n",
    "\n",
    "\n",
    "# 对应元素相乘\n",
    "S = A * B\n",
    "# 放缩\n",
    "S1 = tf.scalar_mul(2,A)  #A 每个元素放大2倍\n",
    "# 除法\n",
    "# S2 = tf.div(A,B)\n",
    "# 取模\n",
    "S3 = tf.mod(A,B)\n",
    "\n",
    "\n",
    "sess.close()"
   ]
  },
  {
   "cell_type": "markdown",
   "metadata": {},
   "source": [
    "### Board"
   ]
  },
  {
   "cell_type": "code",
   "execution_count": 40,
   "metadata": {},
   "outputs": [],
   "source": [
    "import tensorflow as tf\n",
    "\n",
    "rand_t = tf.random_uniform([50,50],0,10,seed=0)  #定义一个随机数生成器\n",
    "input_tensor = tf.Variable(rand_t,name='its')\n",
    "weights = tf.Variable(rand_t,name='ws')\n",
    "bs = tf.Variable(rand_t,name='bs')\n",
    "\n",
    "output_tensor = tf.matmul(input_tensor,weights)+bs\n",
    "with tf.Session() as sess:\n",
    "    tf.summary.histogram('out_put',output_tensor)\n",
    "    tf.summary.FileWriter('summary_dir',sess.graph)"
   ]
  }
 ],
 "metadata": {
  "kernelspec": {
   "display_name": "Python 3",
   "language": "python",
   "name": "python3"
  },
  "language_info": {
   "codemirror_mode": {
    "name": "ipython",
    "version": 3
   },
   "file_extension": ".py",
   "mimetype": "text/x-python",
   "name": "python",
   "nbconvert_exporter": "python",
   "pygments_lexer": "ipython3",
   "version": "3.7.0"
  }
 },
 "nbformat": 4,
 "nbformat_minor": 2
}
